{
  "cells": [
    {
      "cell_type": "code",
      "source": [
        "# The dataset we are working on are the csv files of various crypto currencies and their prices. we found it on the internet on a website while exploring.\n",
        "# The topic is based upon making a model which can predict the pices with a high accuracy\n",
        "\n",
        "# We have used the LSTM because it is great for sequence and prediction tasks due to its capability to capture long-term dependencies"
      ],
      "metadata": {
        "id": "5w2_tCyW7P82"
      },
      "id": "5w2_tCyW7P82",
      "execution_count": null,
      "outputs": []
    },
    {
      "cell_type": "code",
      "source": [
        "from google.colab import drive # mounting drive where the data is present\n",
        "drive.mount('/CoinData')"
      ],
      "metadata": {
        "colab": {
          "base_uri": "https://localhost:8080/"
        },
        "id": "Bi5qonXdooON",
        "outputId": "48184aec-8fd5-4ecf-debe-24daab63d2f8"
      },
      "id": "Bi5qonXdooON",
      "execution_count": null,
      "outputs": [
        {
          "output_type": "stream",
          "name": "stdout",
          "text": [
            "Mounted at /CoinData\n"
          ]
        }
      ]
    },
    {
      "cell_type": "code",
      "execution_count": null,
      "id": "9dbe727c",
      "metadata": {
        "_cell_guid": "b1076dfc-b9ad-4769-8c92-a6c4dae69d19",
        "_uuid": "8f2839f25d086af736a60e9eeb907d3b93b6e0e5",
        "execution": {
          "iopub.execute_input": "2024-04-25T19:26:36.527957Z",
          "iopub.status.busy": "2024-04-25T19:26:36.527187Z",
          "iopub.status.idle": "2024-04-25T19:26:37.511837Z",
          "shell.execute_reply": "2024-04-25T19:26:37.510364Z"
        },
        "papermill": {
          "duration": 0.994378,
          "end_time": "2024-04-25T19:26:37.514312",
          "exception": false,
          "start_time": "2024-04-25T19:26:36.519934",
          "status": "completed"
        },
        "tags": [],
        "colab": {
          "base_uri": "https://localhost:8080/"
        },
        "id": "9dbe727c",
        "outputId": "1a45993f-2e37-4dd1-f9f5-24bb1da7b22d"
      },
      "outputs": [
        {
          "output_type": "stream",
          "name": "stdout",
          "text": [
            "/CoinData/MyDrive/CoinData1/coin_Ethereum.csv\n",
            "/CoinData/MyDrive/CoinData1/coin_Iota.csv\n",
            "/CoinData/MyDrive/CoinData1/coin_ChainLink.csv\n",
            "/CoinData/MyDrive/CoinData1/coin_Dogecoin.csv\n",
            "/CoinData/MyDrive/CoinData1/coin_Aave.csv\n",
            "/CoinData/MyDrive/CoinData1/coin_Cardano.csv\n",
            "/CoinData/MyDrive/CoinData1/coin_CryptocomCoin.csv\n",
            "/CoinData/MyDrive/CoinData1/coin_Bitcoin.csv\n",
            "/CoinData/MyDrive/CoinData1/coin_Litecoin.csv\n",
            "/CoinData/MyDrive/CoinData1/coin_EOS.csv\n",
            "/CoinData/MyDrive/CoinData1/coin_Cosmos.csv\n",
            "/CoinData/MyDrive/CoinData1/coin_BinanceCoin.csv\n",
            "/CoinData/MyDrive/CoinData1/coin_Monero.csv\n",
            "/CoinData/MyDrive/CoinData1/coin_Solana.csv\n",
            "/CoinData/MyDrive/CoinData1/coin_Polkadot.csv\n",
            "/CoinData/MyDrive/CoinData1/coin_NEM.csv\n",
            "/CoinData/MyDrive/CoinData1/coin_WrappedBitcoin.csv\n",
            "/CoinData/MyDrive/CoinData1/coin_USDCoin.csv\n",
            "/CoinData/MyDrive/CoinData1/coin_Tron.csv\n",
            "/CoinData/MyDrive/CoinData1/coin_Stellar.csv\n",
            "/CoinData/MyDrive/CoinData1/coin_Tether.csv\n",
            "/CoinData/MyDrive/CoinData1/coin_Uniswap.csv\n",
            "/CoinData/MyDrive/CoinData1/coin_XRP.csv\n"
          ]
        }
      ],
      "source": [
        "import numpy as np\n",
        "import pandas as pd # data processing, CSV file\n",
        "\n",
        "import os\n",
        "for dirname, _, filenames in os.walk('/CoinData/MyDrive/CoinData1'):\n",
        "    for filename in filenames:\n",
        "        print(os.path.join(dirname, filename))"
      ]
    },
    {
      "cell_type": "code",
      "execution_count": null,
      "id": "6ea27808",
      "metadata": {
        "execution": {
          "iopub.execute_input": "2024-04-25T19:26:37.547343Z",
          "iopub.status.busy": "2024-04-25T19:26:37.546907Z",
          "iopub.status.idle": "2024-04-25T19:26:38.211441Z",
          "shell.execute_reply": "2024-04-25T19:26:38.210010Z"
        },
        "papermill": {
          "duration": 0.673748,
          "end_time": "2024-04-25T19:26:38.214188",
          "exception": false,
          "start_time": "2024-04-25T19:26:37.540440",
          "status": "completed"
        },
        "tags": [],
        "colab": {
          "base_uri": "https://localhost:8080/"
        },
        "id": "6ea27808",
        "outputId": "ca97a810-d795-4274-92d8-7452cf1ee9bf"
      },
      "outputs": [
        {
          "output_type": "stream",
          "name": "stdout",
          "text": [
            "0 Ethereum 2160\n",
            "1 Iota 1484\n",
            "2 ChainLink 1385\n",
            "3 Dogecoin 2760\n",
            "4 Aave 275\n",
            "5 Cardano 1374\n",
            "6 CryptocomCoin 935\n",
            "7 Bitcoin 2991\n",
            "8 Litecoin 2991\n",
            "9 EOS 1466\n",
            "10 Cosmos 845\n",
            "11 BinanceCoin 1442\n",
            "12 Monero 2602\n",
            "13 Solana 452\n",
            "14 Polkadot 320\n",
            "15 NEM 2288\n",
            "16 WrappedBitcoin 888\n",
            "17 USDCoin 1002\n",
            "18 Tron 1392\n",
            "19 Stellar 2527\n",
            "20 Tether 2318\n",
            "21 Uniswap 292\n",
            "22 XRP 2893\n",
            "Coin amount:  23 .\n"
          ]
        }
      ],
      "source": [
        "pd.options.mode.chained_assignment = None\n",
        "pd.options.display.max_columns = 999 #Outputs more colums for dataframes\n",
        "\n",
        "base = \"/CoinData/MyDrive/CoinData1\"\n",
        "datahistory = 60 #Amount of days for data history to use\n",
        "\n",
        "def coincount(data_drt): # counts amount of coin files within the given directory\n",
        "\n",
        "    coin__Count = 0\n",
        "    for cryptofile in os.listdir(data_drt):\n",
        "        if cryptofile.endswith(\".csv\"):\n",
        "            coin__Count += 1\n",
        "    return coin__Count\n",
        "\n",
        "\n",
        "def get_max_min_data_lengths(data_drt):\n",
        "    #It finds min and max lengths of the data coin files.\n",
        "    lengthmax = 0\n",
        "    lengthmin = float(\"inf\")  #Actiavtes lengthmin to be infinity\n",
        "    for cryptofile in os.listdir(data_drt):\n",
        "        if cryptofile.endswith(\".csv\"):\n",
        "            fD = pd.read_csv(data_drt + \"/\" + cryptofile, parse_dates=['Date'])\n",
        "            lengthdata = fD.shape[0]\n",
        "            lengthmax = max(lengthmax, lengthdata)\n",
        "            lengthmin = min(lengthmin, lengthdata)\n",
        "    return lengthmax,lengthmin\n",
        "\n",
        "\n",
        "def read_process_coin_data(data_drt, indexCoin):\n",
        "    # reads and processes a specific coin\n",
        "    cryptofile = os.listdir(data_drt)[indexCoin]\n",
        "    fD = pd.read_csv(data_drt + \"/\" + cryptofile, parse_dates=['Date'])\n",
        "    symbolCoin = cryptofile[5:-4]\n",
        "    lengthdata = fD.shape[0]\n",
        "    pricesclosing = fD['closed'].values\n",
        "    return symbolCoin, lengthdata, pricesclosing\n",
        "\n",
        "\n",
        "def read_data(data_drt, datahistory):\n",
        "    # reads and processes the cryptocurrency data\n",
        "    coinNum = coin__Count(data_drt)\n",
        "    maxlengthdata = get_max_min_data_lengths(data_drt)  #length_min discarded\n",
        "    pricesclosingdata = np.zeros((coinNum, maxlengthdata))\n",
        "    coinlengthsdata = np.zeros(coinNum, dtype=int)\n",
        "\n",
        "\n",
        "    for indexCoin in range(coinNum):\n",
        "        symbolCoin, lengthdata, pricesclosing = read_process_coin_data(data_drt, indexCoin)\n",
        "        print(indexCoin, symbolCoin, lengthdata)\n",
        "        priceslosingdata[indexCoin, 0:lengthdata] = pricesclosing\n",
        "        coinlengthsdata[indexCoin] = lengthdata\n",
        "\n",
        "\n",
        "def read_data (): # Reading and processing all data of coins\n",
        "\n",
        "    coinNum = 0\n",
        "    for name in os.listdir(base):\n",
        "        coinNum += 1 # counts the amount of files with coins\n",
        "\n",
        "    lengthmax, lengthmin = 0, 1000000 # intiating a big value\n",
        "    for name in os.listdir(base):\n",
        "        fD = pd.read_csv(base + \"/\" + name, parse_dates=['Date'])\n",
        "        thelength = fD.shape[0]\n",
        "        if lengthmax < thelength:\n",
        "            lengthmax = thelength\n",
        "        if lengthmin > thelength:\n",
        "            lengthmin = thelength\n",
        "\n",
        "\n",
        "    info = np.zeros ((coinNum, lengthmax)) #Activates arrays to keep coins data\n",
        "    Slength = np.zeros(coinNum, dtype = int)\n",
        "    i = 0\n",
        "    for name in os.listdir(base):\n",
        "        coinSymb = name[5:-4] #Extracting the symbol of the coin from the file name.\n",
        "        fD = pd.read_csv(base + \"/\" + name, parse_dates=['Date'])\n",
        "        thelength = fD.shape[0]\n",
        "\n",
        "        #Storing coin info.\n",
        "        Slength[i] = thelength\n",
        "        print (i, coinSymb, thelength)\n",
        "\n",
        "        info[i, 0:thelength] = fD['Close'].values\n",
        "        i += 1\n",
        "\n",
        "\n",
        "    return coinNum, Slength, info\n",
        "\n",
        "coinNum, Slength, info = read_data ()\n",
        "print (\"Coin amount: \", coinNum, \".\")"
      ]
    },
    {
      "cell_type": "code",
      "execution_count": null,
      "id": "71acd438",
      "metadata": {
        "execution": {
          "iopub.execute_input": "2024-04-25T19:26:38.226002Z",
          "iopub.status.busy": "2024-04-25T19:26:38.225598Z",
          "iopub.status.idle": "2024-04-25T19:26:38.237001Z",
          "shell.execute_reply": "2024-04-25T19:26:38.235513Z"
        },
        "papermill": {
          "duration": 0.020498,
          "end_time": "2024-04-25T19:26:38.239721",
          "exception": false,
          "start_time": "2024-04-25T19:26:38.219223",
          "status": "completed"
        },
        "tags": [],
        "id": "71acd438"
      },
      "outputs": [],
      "source": [
        "def data_scale(info, Slength):\n",
        "\n",
        "    coinNum = info.shape[0] #More cleaner name for the variable.\n",
        "    shift_info = np.zeros(coinNum)\n",
        "    factor_scale = np.zeros(coinNum)\n",
        "    #^^^ shift_info and factor_scale have descriptive name.\n",
        "\n",
        "    for i in range (coinNum):\n",
        "        valMax = info[i,:Slength[i]].max()\n",
        "        valMin = info[i, :Slength[i]].min()\n",
        "        #^^^ Clearing calculation ^^^\n",
        "        shift_info[i] = valMin #This stores the info of shift value of the info.\n",
        "        factor_scale[i] = valMax - valMin #Calculating the factor scale.\n",
        "\n",
        "        if factor_scale[i] == 0:\n",
        "            raise ValueError(\"Division by zero encountered during scaling.\")\n",
        "\n",
        "        info[i,0:Slength[i]] = (info[i,0:Slength[i]]-shift_info[i])/factor_scale[i]\n",
        "    return (shift_info, factor_scale) #Scaling the info and scale factor\n",
        "\n",
        "shift_info, factor_scale = data_scale (info, Slength)"
      ]
    },
    {
      "cell_type": "code",
      "execution_count": null,
      "id": "12b322db",
      "metadata": {
        "execution": {
          "iopub.execute_input": "2024-04-25T19:26:38.251588Z",
          "iopub.status.busy": "2024-04-25T19:26:38.251189Z",
          "iopub.status.idle": "2024-04-25T19:26:38.338375Z",
          "shell.execute_reply": "2024-04-25T19:26:38.336926Z"
        },
        "papermill": {
          "duration": 0.096039,
          "end_time": "2024-04-25T19:26:38.340874",
          "exception": false,
          "start_time": "2024-04-25T19:26:38.244835",
          "status": "completed"
        },
        "tags": [],
        "colab": {
          "base_uri": "https://localhost:8080/"
        },
        "id": "12b322db",
        "outputId": "fa856862-054d-4c44-f1a9-d6407c8ac5c5"
      },
      "outputs": [
        {
          "output_type": "stream",
          "name": "stdout",
          "text": [
            "Approximately 6469 sequences for validation.\n",
            "Approximately 2878 sequences for testing.\n",
            "Approximately 27390 sequences for training.\n"
          ]
        }
      ],
      "source": [
        "def sequence(info, Slength, begin, finish, datahistory):\n",
        "    assert len(info) == len(Slength), \"Unmatched data length.\"\n",
        "\n",
        "    # Initialize blank lists to keep targets and sequences\n",
        "    A = []\n",
        "    B = []\n",
        "\n",
        "    # Iterate over the specified range of coins\n",
        "    for j in range(begin, finish):\n",
        "        for i in range(datahistory, Slength[j]):\n",
        "            # Append input sequence and its compatible value target\n",
        "            A.append(info[j, i - datahistory:i])\n",
        "            B.append(info[j, i])\n",
        "\n",
        "    X = np.array(A)[:, :, np.newaxis] # Converting lists to numpy arrays and reshape for LSTM input\n",
        "    y = np.array(B)\n",
        "\n",
        "    return X, y\n",
        "\n",
        "# number of days for data history to use ie 15 days\n",
        "datahistory = 15\n",
        "\n",
        "# Creating the validation and training, and test sequences\n",
        "X_val, Y_val = sequence(info, Slength, 18, 22, datahistory)\n",
        "print(\"Approximately\", Y_val.shape[0], \"sequences for validation.\")\n",
        "\n",
        "X_test, Y_test = sequence(info, Slength, 22, 23, datahistory)\n",
        "print(\"Approximately\", Y_test.shape[0], \"sequences for testing.\")\n",
        "\n",
        "X_train, Y_train = sequence(info, Slength, 0, 18, datahistory)\n",
        "print(\"Approximately\", Y_train.shape[0], \"sequences for training.\")\n"
      ]
    },
    {
      "cell_type": "code",
      "execution_count": null,
      "id": "1f997d59",
      "metadata": {
        "execution": {
          "iopub.execute_input": "2024-04-25T19:26:38.352461Z",
          "iopub.status.busy": "2024-04-25T19:26:38.352033Z",
          "iopub.status.idle": "2024-04-25T19:26:52.865983Z",
          "shell.execute_reply": "2024-04-25T19:26:52.864901Z"
        },
        "papermill": {
          "duration": 14.522727,
          "end_time": "2024-04-25T19:26:52.868591",
          "exception": false,
          "start_time": "2024-04-25T19:26:38.345864",
          "status": "completed"
        },
        "tags": [],
        "colab": {
          "base_uri": "https://localhost:8080/"
        },
        "id": "1f997d59",
        "outputId": "5172345a-8758-4b06-d5ad-6812eadc39df"
      },
      "outputs": [
        {
          "output_type": "stream",
          "name": "stdout",
          "text": [
            "Model: \"sequential_2\"\n",
            "_________________________________________________________________\n",
            " Layer (type)                Output Shape              Param #   \n",
            "=================================================================\n",
            " lstm_4 (LSTM)               (None, 15, 130)           68640     \n",
            "                                                                 \n",
            " lstm_5 (LSTM)               (None, 70)                56280     \n",
            "                                                                 \n",
            " dense_4 (Dense)             (None, 30)                2130      \n",
            "                                                                 \n",
            " dense_5 (Dense)             (None, 1)                 31        \n",
            "                                                                 \n",
            "=================================================================\n",
            "Total params: 127081 (496.41 KB)\n",
            "Trainable params: 127081 (496.41 KB)\n",
            "Non-trainable params: 0 (0.00 Byte)\n",
            "_________________________________________________________________\n"
          ]
        }
      ],
      "source": [
        "import tensorflow as tf\n",
        "\n",
        "def lstm_model(datahistory):\n",
        "\n",
        "    model_lstm = tf.keras.Sequential()\n",
        "\n",
        "    # 1st LSTM layer with 130 units, returning sequences for a larger model\n",
        "    model_lstm.add(tf.keras.layers.LSTM(130, return_sequences=True, input_shape=(datahistory, 1)))\n",
        "\n",
        "    model_lstm.add(tf.keras.layers.LSTM(70, return_sequences=False)) # The second LSTM layer with 70 units, not returning sequences.\n",
        "\n",
        "    model_lstm.add(tf.keras.layers.Dense(30)) # A Dense layer with 30 units for intermediate processing.\n",
        "\n",
        "    model_lstm.add(tf.keras.layers.Dense(1)) # output Dense layer with 1 unit for prediction.\n",
        "\n",
        "    model_lstm.compile(optimizer='adam', loss='mean_squared_error') # compiling the model using the Adam optimizer and mean squared error loss\n",
        "\n",
        "    model_lstm.summary() # Summary of the model for an overview\n",
        "\n",
        "    return model_lstm\n",
        "\n",
        "\n",
        "datahistory = 15  # number of past observations that we have used\n",
        "model_lstm = lstm_model(datahistory)\n"
      ]
    },
    {
      "cell_type": "code",
      "execution_count": null,
      "id": "ee57bd8a",
      "metadata": {
        "execution": {
          "iopub.execute_input": "2024-04-25T19:26:52.884209Z",
          "iopub.status.busy": "2024-04-25T19:26:52.883296Z",
          "iopub.status.idle": "2024-04-25T19:41:16.315545Z",
          "shell.execute_reply": "2024-04-25T19:41:16.314367Z"
        },
        "papermill": {
          "duration": 864.348918,
          "end_time": "2024-04-25T19:41:17.224266",
          "exception": false,
          "start_time": "2024-04-25T19:26:52.875348",
          "status": "completed"
        },
        "tags": [],
        "colab": {
          "base_uri": "https://localhost:8080/"
        },
        "id": "ee57bd8a",
        "outputId": "8d944822-f2ad-4999-814b-9962be0bb716"
      },
      "outputs": [
        {
          "output_type": "stream",
          "name": "stdout",
          "text": [
            "Epoch 1/10\n",
            "856/856 [==============================] - 35s 36ms/step - loss: 0.0011 - val_loss: 4.9072e-04\n",
            "Epoch 2/10\n",
            "856/856 [==============================] - 31s 36ms/step - loss: 5.6672e-04 - val_loss: 7.1331e-04\n",
            "Epoch 3/10\n",
            "856/856 [==============================] - 34s 40ms/step - loss: 5.3181e-04 - val_loss: 5.2572e-04\n",
            "Epoch 4/10\n",
            "856/856 [==============================] - 31s 36ms/step - loss: 5.3390e-04 - val_loss: 4.0972e-04\n",
            "Epoch 5/10\n",
            "856/856 [==============================] - 30s 35ms/step - loss: 5.3673e-04 - val_loss: 4.4835e-04\n",
            "Epoch 6/10\n",
            "856/856 [==============================] - 30s 36ms/step - loss: 5.1388e-04 - val_loss: 6.1635e-04\n",
            "Epoch 7/10\n",
            "856/856 [==============================] - 31s 36ms/step - loss: 5.1953e-04 - val_loss: 3.7346e-04\n",
            "Epoch 8/10\n",
            "856/856 [==============================] - 31s 37ms/step - loss: 5.1626e-04 - val_loss: 3.7736e-04\n",
            "Epoch 9/10\n",
            "856/856 [==============================] - 32s 37ms/step - loss: 5.2224e-04 - val_loss: 7.2407e-04\n",
            "Epoch 10/10\n",
            "856/856 [==============================] - 30s 36ms/step - loss: 4.9509e-04 - val_loss: 4.3996e-04\n"
          ]
        }
      ],
      "source": [
        "#Model training process. It stores the training history for examination, indication of a validation set, adjusting batch size for optimization,\n",
        "#And epochs increased for the machine to have better learning.\n",
        "training = model_lstm.fit(X_train, Y_train, validation_data = (X_val, Y_val), batch_size=32, epochs=10)"
      ]
    },
    {
      "cell_type": "code",
      "execution_count": null,
      "id": "c09c85e2",
      "metadata": {
        "execution": {
          "iopub.execute_input": "2024-04-25T19:41:18.891092Z",
          "iopub.status.busy": "2024-04-25T19:41:18.890349Z",
          "iopub.status.idle": "2024-04-25T19:41:19.300279Z",
          "shell.execute_reply": "2024-04-25T19:41:19.299153Z"
        },
        "papermill": {
          "duration": 1.241864,
          "end_time": "2024-04-25T19:41:19.303057",
          "exception": false,
          "start_time": "2024-04-25T19:41:18.061193",
          "status": "completed"
        },
        "tags": [],
        "colab": {
          "base_uri": "https://localhost:8080/",
          "height": 472
        },
        "id": "c09c85e2",
        "outputId": "fad38ae9-6e42-4a62-fe09-475b6bbe8a16"
      },
      "outputs": [
        {
          "output_type": "display_data",
          "data": {
            "text/plain": [
              "<Figure size 640x480 with 1 Axes>"
            ],
            "image/png": "[encoded data removed]"
          },
          "metadata": {}
        }
      ],
      "source": [
        "import matplotlib.pyplot as plt\n",
        "def stats_reveal (training):\n",
        "    #Plotting the validation and training curves of loss.\n",
        "    plt.plot(training.history['loss'])\n",
        "    plt.plot(training.history['val_loss'])\n",
        "\n",
        "\n",
        "    #Setting the graph labels and tilte.\n",
        "    plt.title(\"Model\")\n",
        "    plt.xlabel(\"Epoch\")\n",
        "    plt.ylabel(\"Loss Prediction\")\n",
        "    plt.legend([\"Training Loss\", \"Validation Loss\"])\n",
        "\n",
        "    #Outputs the graph.\n",
        "    plt.show()\n",
        "\n",
        "#Summons the function to get a visualization on the curves loss.\n",
        "stats_reveal (training)"
      ]
    },
    {
      "cell_type": "code",
      "execution_count": null,
      "id": "5bfa96f0",
      "metadata": {
        "execution": {
          "iopub.execute_input": "2024-04-25T19:41:21.124163Z",
          "iopub.status.busy": "2024-04-25T19:41:21.123250Z",
          "iopub.status.idle": "2024-04-25T19:41:26.707494Z",
          "shell.execute_reply": "2024-04-25T19:41:26.706314Z"
        },
        "papermill": {
          "duration": 6.500386,
          "end_time": "2024-04-25T19:41:26.710354",
          "exception": false,
          "start_time": "2024-04-25T19:41:20.209968",
          "status": "completed"
        },
        "tags": [],
        "colab": {
          "base_uri": "https://localhost:8080/",
          "height": 487
        },
        "id": "5bfa96f0",
        "outputId": "d1720598-2a69-44a0-9bd5-4d2d8a6d5a13"
      },
      "outputs": [
        {
          "output_type": "stream",
          "name": "stdout",
          "text": [
            "90/90 [==============================] - 2s 11ms/step\n",
            "RSME:  0.14005498210739123\n"
          ]
        },
        {
          "output_type": "display_data",
          "data": {
            "text/plain": [
              "<Figure size 640x480 with 1 Axes>"
            ],
            "image/png": "[encoded data removed]"
          },
          "metadata": {}
        }
      ],
      "source": [
        "# activate the model's predictions on the test dataset\n",
        "prognosis = model_lstm.predict(X_test)\n",
        "\n",
        "plt.title(\"Model's prediction vs real prices\")\n",
        "\n",
        "# calculating the (RMSE) to determine accuracy of prediction\n",
        "\n",
        "rmse = np.sqrt(np.mean(((prognosis - Y_test) ** 2)))\n",
        "print(\"RSME: \", rmse)\n",
        "\n",
        "#Plot : prediction data.\n",
        "plt.plot(prognosis*factor_scale[20] + shift_info[20])\n",
        "\n",
        "#Plots : real data.\n",
        "plt.plot(Y_test*factor_scale[20] + shift_info[20])\n",
        "\n",
        "#Output graph\n",
        "plt.legend([\"Predictions\",\"Real data\"])\n",
        "plt.show()"
      ]
    }
  ],
  "metadata": {
    "kaggle": {
      "accelerator": "none",
      "dataSources": [
        {
          "datasetId": 1869,
          "sourceId": 2402293,
          "sourceType": "datasetVersion"
        }
      ],
      "dockerImageVersionId": 30673,
      "isGpuEnabled": false,
      "isInternetEnabled": false,
      "language": "python",
      "sourceType": "notebook"
    },
    "kernelspec": {
      "display_name": "Python 3",
      "language": "python",
      "name": "python3"
    },
    "language_info": {
      "codemirror_mode": {
        "name": "ipython",
        "version": 3
      },
      "file_extension": ".py",
      "mimetype": "text/x-python",
      "name": "python",
      "nbconvert_exporter": "python",
      "pygments_lexer": "ipython3",
      "version": "3.10.13"
    },
    "papermill": {
      "default_parameters": {},
      "duration": 896.82474,
      "end_time": "2024-04-25T19:41:30.188254",
      "environment_variables": {},
      "exception": null,
      "input_path": "__notebook__.ipynb",
      "output_path": "__notebook__.ipynb",
      "parameters": {},
      "start_time": "2024-04-25T19:26:33.363514",
      "version": "2.5.0"
    },
    "colab": {
      "provenance": []
    }
  },
  "nbformat": 4,
  "nbformat_minor": 5
}